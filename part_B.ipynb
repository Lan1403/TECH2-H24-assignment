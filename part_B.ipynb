{
 "cells": [
  {
   "cell_type": "markdown",
   "metadata": {},
   "source": [
    "# TECH 2 mandatory assignment - Part B\n",
    "\n",
    "Write your solution for Part B in this notebook."
   ]
  },
  {
   "cell_type": "code",
   "execution_count": 8,
   "metadata": {},
   "outputs": [
    {
     "name": "stdout",
     "output_type": "stream",
     "text": [
      "Column 1 (100 numbers): [0.6823518632481435, 0.053821018802222675, 0.22035987277261138, 0.1843718106986697, 0.17590590108503035] ... Length: 100\n",
      "Column 2 (1,000 numbers): [0.6823518632481435, 0.053821018802222675, 0.22035987277261138, 0.1843718106986697, 0.17590590108503035] ... Length: 1000\n",
      "Column 3 (10,000 numbers): [0.6823518632481435, 0.053821018802222675, 0.22035987277261138, 0.1843718106986697, 0.17590590108503035] ... Length: 10000\n"
     ]
    }
   ],
   "source": [
    "import csv\n",
    "from math import sqrt\n",
    "from part_A import std_loops, std_builtin\n",
    "import numpy as np\n",
    "\n",
    "# Define the import_data function\n",
    "def import_data(filename):\n",
    "    col1, col2, col3 = [], [], []\n",
    "    \n",
    "    with open(filename, 'r') as csvfile:\n",
    "        reader = csv.reader(csvfile)\n",
    "        for row in reader:\n",
    "                try:\n",
    "                    if row[0] != '' :\n",
    "                        col1.append(float(row[0]))\n",
    "                    if row[1] != '':\n",
    "                        col2.append(float(row[1]))\n",
    "                    if row[2] != '':\n",
    "                        col3.append(float(row[2]))\n",
    "                except ValueError:\n",
    "                    # Skip rows that can't be converted to float\n",
    "                    print(f\"Skipping invalid row: {row}\")\n",
    "    \n",
    "    return col1, col2, col3\n",
    "\n",
    "\n",
    "# Import the data\n",
    "col1, col2, col3 = import_data('data.csv')\n",
    "\n",
    "# Confirm the data has been loaded successfully\n",
    "print(f\"Column 1 (100 numbers): {col1[:5]} ... Length: {len(col1)}\")\n",
    "print(f\"Column 2 (1,000 numbers): {col2[:5]} ... Length: {len(col2)}\")\n",
    "print(f\"Column 3 (10,000 numbers): {col3[:5]} ... Length: {len(col3)}\")\n"
   ]
  }
 ],
 "metadata": {
  "kernelspec": {
   "display_name": "TECH2-assignment",
   "language": "python",
   "name": "python3"
  },
  "language_info": {
   "codemirror_mode": {
    "name": "ipython",
    "version": 3
   },
   "file_extension": ".py",
   "mimetype": "text/x-python",
   "name": "python",
   "nbconvert_exporter": "python",
   "pygments_lexer": "ipython3",
   "version": "3.12.5"
  }
 },
 "nbformat": 4,
 "nbformat_minor": 2
}
